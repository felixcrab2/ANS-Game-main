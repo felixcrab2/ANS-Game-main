{
 "cells": [
  {
   "cell_type": "code",
   "execution_count": 11,
   "metadata": {},
   "outputs": [],
   "source": [
    "import pandas as pd\n",
    "import csv\n",
    "import os\n",
    "\n",
    "# Set the working directory\n",
    "os.chdir('/Users/felixcrabtree/Desktop/Masters/BIOL0020/Assessment/ANS-Game-main/')\n",
    "\n",
    "# Now you can use relative paths\n",
    "df = pd.read_csv('Game_data.csv', usecols=[1])\n",
    "\n",
    "processed_data = []\n",
    "\n",
    "for index, row in df.iterrows():\n",
    "    lines = row['answers'].split('\\n')\n",
    "    for line in lines[1:]:\n",
    "        processed_data.append(line.split(','))\n",
    "\n",
    "processed_df = pd.DataFrame(processed_data, columns=['round', 'left_dots', 'right_dots', 'choice', 'correct', 'username'])\n",
    "\n",
    "# The output file will be saved in the working directory\n",
    "processed_df.to_csv('processed_game_data.csv', index=False)\n",
    "\n"
   ]
  }
 ],
 "metadata": {
  "kernelspec": {
   "display_name": "Python 3",
   "language": "python",
   "name": "python3"
  },
  "language_info": {
   "codemirror_mode": {
    "name": "ipython",
    "version": 3
   },
   "file_extension": ".py",
   "mimetype": "text/x-python",
   "name": "python",
   "nbconvert_exporter": "python",
   "pygments_lexer": "ipython3",
   "version": "3.11.2"
  }
 },
 "nbformat": 4,
 "nbformat_minor": 2
}
